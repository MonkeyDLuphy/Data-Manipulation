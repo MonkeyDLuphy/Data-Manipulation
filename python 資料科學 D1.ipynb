{
 "cells": [
  {
   "cell_type": "code",
   "execution_count": 35,
   "metadata": {
    "scrolled": true
   },
   "outputs": [
    {
     "name": "stdout",
     "output_type": "stream",
     "text": [
      "沒有包含結束值： [ 0  1  2  3  4  5  6  7  8  9 10 11 12 13 14 15 16 17 18 19 20]\n",
      "0 -偶數\n",
      "2 -偶數\n",
      "3 -3的倍數\n",
      "4 -偶數\n",
      "6 -偶數\n",
      "8 -偶數\n",
      "9 -3的倍數\n",
      "10 -偶數\n",
      "12 -偶數\n",
      "14 -偶數\n",
      "15 -3的倍數\n",
      "16 -偶數\n",
      "18 -偶數\n",
      "20 -偶數\n"
     ]
    }
   ],
   "source": [
    "import numpy as np\n",
    "\n",
    "np.__version__\n",
    "\n",
    "a=np.arange(0, 21, 1)\n",
    "type(a)\n",
    "print(\"沒有包含結束值：\", a)\n",
    "\n",
    "n = a \n",
    "for n in a: \n",
    "    if n%2==0 :\n",
    "        print(n, '-偶數')  #偶數\n",
    "    elif n%3==0 :\n",
    "        print(n ,'-3的倍數')  #3的倍數"
   ]
  }
 ],
 "metadata": {
  "kernelspec": {
   "display_name": "Python 3",
   "language": "python",
   "name": "python3"
  },
  "language_info": {
   "codemirror_mode": {
    "name": "ipython",
    "version": 3
   },
   "file_extension": ".py",
   "mimetype": "text/x-python",
   "name": "python",
   "nbconvert_exporter": "python",
   "pygments_lexer": "ipython3",
   "version": "3.8.5"
  }
 },
 "nbformat": 4,
 "nbformat_minor": 1
}
